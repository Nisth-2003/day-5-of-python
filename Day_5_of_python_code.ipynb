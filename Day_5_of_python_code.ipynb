{
  "nbformat": 4,
  "nbformat_minor": 0,
  "metadata": {
    "colab": {
      "provenance": []
    },
    "kernelspec": {
      "name": "python3",
      "display_name": "Python 3"
    },
    "language_info": {
      "name": "python"
    }
  },
  "cells": [
    {
      "cell_type": "code",
      "execution_count": 1,
      "metadata": {
        "id": "gboFKPy_5S_l",
        "colab": {
          "base_uri": "https://localhost:8080/"
        },
        "outputId": "fd843ed8-60c1-4fd8-b125-5b8140b0b5f0"
      },
      "outputs": [
        {
          "output_type": "stream",
          "name": "stdout",
          "text": [
            "Enter a number:2\n",
            "2 x 1 = 2\n",
            "2 x 2 = 4\n",
            "2 x 3 = 6\n",
            "2 x 4 = 8\n",
            "2 x 5 = 10\n",
            "2 x 6 = 12\n",
            "2 x 7 = 14\n",
            "2 x 8 = 16\n",
            "2 x 9 = 18\n",
            "2 x 10 = 20\n"
          ]
        }
      ],
      "source": [
        "#check prime number\n",
        "a=int(input(\"Enter a number:\"))\n",
        "for i in range(1,11):\n",
        "  print(a,\"x\",i,\"=\",a*i)\n"
      ]
    },
    {
      "cell_type": "code",
      "source": [
        "#check prime number\n",
        "a=5\n",
        "for i in range(1,10):\n",
        "  print(5*i)"
      ],
      "metadata": {
        "colab": {
          "base_uri": "https://localhost:8080/"
        },
        "id": "m63M5oE_8WhW",
        "outputId": "37ae0419-3d24-4b77-e0a3-0488e26739fc"
      },
      "execution_count": 2,
      "outputs": [
        {
          "output_type": "stream",
          "name": "stdout",
          "text": [
            "5\n",
            "10\n",
            "15\n",
            "20\n",
            "25\n",
            "30\n",
            "35\n",
            "40\n",
            "45\n"
          ]
        }
      ]
    },
    {
      "cell_type": "code",
      "source": [
        "#fibonacci series\n",
        "a=int(input(\"Enter a number:\"))\n",
        "n1=0\n",
        "n2=1\n",
        "count=1\n",
        "if (a<=0):\n",
        "  print(\"enter a valid number\")\n",
        "elif (a==1):\n",
        "  print(a)\n",
        "else:\n",
        "  while count<=a:\n",
        "    count=1\n",
        "    n=n2+n1\n"
      ],
      "metadata": {
        "colab": {
          "base_uri": "https://localhost:8080/"
        },
        "id": "fh6F1aP2it7n",
        "outputId": "ca6a4887-bc5b-49b2-8cf4-5a961a1d179f"
      },
      "execution_count": null,
      "outputs": [
        {
          "name": "stdout",
          "output_type": "stream",
          "text": [
            "Enter a number:4\n"
          ]
        }
      ]
    }
  ]
}